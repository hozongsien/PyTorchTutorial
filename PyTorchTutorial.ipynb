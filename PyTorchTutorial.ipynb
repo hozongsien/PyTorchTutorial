{
  "nbformat": 4,
  "nbformat_minor": 0,
  "metadata": {
    "colab": {
      "name": "PyTorchTutorial.ipynb",
      "provenance": [],
      "authorship_tag": "ABX9TyMIvlc5ycfgmYVuUQGZzdK1",
      "include_colab_link": true
    },
    "kernelspec": {
      "name": "python3",
      "display_name": "Python 3"
    },
    "accelerator": "GPU",
    "widgets": {
      "application/vnd.jupyter.widget-state+json": {
        "cf45c5dd6989411da9fff63619dbc9b6": {
          "model_module": "@jupyter-widgets/controls",
          "model_name": "HBoxModel",
          "state": {
            "_view_name": "HBoxView",
            "_dom_classes": [],
            "_model_name": "HBoxModel",
            "_view_module": "@jupyter-widgets/controls",
            "_model_module_version": "1.5.0",
            "_view_count": null,
            "_view_module_version": "1.5.0",
            "box_style": "",
            "layout": "IPY_MODEL_8bf8422f4f6c4cb1b14f0c79d6add8f0",
            "_model_module": "@jupyter-widgets/controls",
            "children": [
              "IPY_MODEL_7393f3cac29949bca3d4359cf68a0e6b",
              "IPY_MODEL_6fdb4464a835445a87033cb071c44bc9"
            ]
          }
        },
        "8bf8422f4f6c4cb1b14f0c79d6add8f0": {
          "model_module": "@jupyter-widgets/base",
          "model_name": "LayoutModel",
          "state": {
            "_view_name": "LayoutView",
            "grid_template_rows": null,
            "right": null,
            "justify_content": null,
            "_view_module": "@jupyter-widgets/base",
            "overflow": null,
            "_model_module_version": "1.2.0",
            "_view_count": null,
            "flex_flow": null,
            "width": null,
            "min_width": null,
            "border": null,
            "align_items": null,
            "bottom": null,
            "_model_module": "@jupyter-widgets/base",
            "top": null,
            "grid_column": null,
            "overflow_y": null,
            "overflow_x": null,
            "grid_auto_flow": null,
            "grid_area": null,
            "grid_template_columns": null,
            "flex": null,
            "_model_name": "LayoutModel",
            "justify_items": null,
            "grid_row": null,
            "max_height": null,
            "align_content": null,
            "visibility": null,
            "align_self": null,
            "height": null,
            "min_height": null,
            "padding": null,
            "grid_auto_rows": null,
            "grid_gap": null,
            "max_width": null,
            "order": null,
            "_view_module_version": "1.2.0",
            "grid_template_areas": null,
            "object_position": null,
            "object_fit": null,
            "grid_auto_columns": null,
            "margin": null,
            "display": null,
            "left": null
          }
        },
        "7393f3cac29949bca3d4359cf68a0e6b": {
          "model_module": "@jupyter-widgets/controls",
          "model_name": "FloatProgressModel",
          "state": {
            "_view_name": "ProgressView",
            "style": "IPY_MODEL_79c5fff4db084c04a353200a983fb1e1",
            "_dom_classes": [],
            "description": "",
            "_model_name": "FloatProgressModel",
            "bar_style": "info",
            "max": 1,
            "_view_module": "@jupyter-widgets/controls",
            "_model_module_version": "1.5.0",
            "value": 1,
            "_view_count": null,
            "_view_module_version": "1.5.0",
            "orientation": "horizontal",
            "min": 0,
            "description_tooltip": null,
            "_model_module": "@jupyter-widgets/controls",
            "layout": "IPY_MODEL_6f52d447fd8e44fabba57ee3f04de4dd"
          }
        },
        "6fdb4464a835445a87033cb071c44bc9": {
          "model_module": "@jupyter-widgets/controls",
          "model_name": "HTMLModel",
          "state": {
            "_view_name": "HTMLView",
            "style": "IPY_MODEL_73722b1c49e04e6bb5a827d7869dac93",
            "_dom_classes": [],
            "description": "",
            "_model_name": "HTMLModel",
            "placeholder": "​",
            "_view_module": "@jupyter-widgets/controls",
            "_model_module_version": "1.5.0",
            "value": " 170500096/? [00:30&lt;00:00, 16800964.85it/s]",
            "_view_count": null,
            "_view_module_version": "1.5.0",
            "description_tooltip": null,
            "_model_module": "@jupyter-widgets/controls",
            "layout": "IPY_MODEL_32a1dc0abfcc470c9b3afc9a0657882a"
          }
        },
        "79c5fff4db084c04a353200a983fb1e1": {
          "model_module": "@jupyter-widgets/controls",
          "model_name": "ProgressStyleModel",
          "state": {
            "_view_name": "StyleView",
            "_model_name": "ProgressStyleModel",
            "description_width": "initial",
            "_view_module": "@jupyter-widgets/base",
            "_model_module_version": "1.5.0",
            "_view_count": null,
            "_view_module_version": "1.2.0",
            "bar_color": null,
            "_model_module": "@jupyter-widgets/controls"
          }
        },
        "6f52d447fd8e44fabba57ee3f04de4dd": {
          "model_module": "@jupyter-widgets/base",
          "model_name": "LayoutModel",
          "state": {
            "_view_name": "LayoutView",
            "grid_template_rows": null,
            "right": null,
            "justify_content": null,
            "_view_module": "@jupyter-widgets/base",
            "overflow": null,
            "_model_module_version": "1.2.0",
            "_view_count": null,
            "flex_flow": null,
            "width": null,
            "min_width": null,
            "border": null,
            "align_items": null,
            "bottom": null,
            "_model_module": "@jupyter-widgets/base",
            "top": null,
            "grid_column": null,
            "overflow_y": null,
            "overflow_x": null,
            "grid_auto_flow": null,
            "grid_area": null,
            "grid_template_columns": null,
            "flex": null,
            "_model_name": "LayoutModel",
            "justify_items": null,
            "grid_row": null,
            "max_height": null,
            "align_content": null,
            "visibility": null,
            "align_self": null,
            "height": null,
            "min_height": null,
            "padding": null,
            "grid_auto_rows": null,
            "grid_gap": null,
            "max_width": null,
            "order": null,
            "_view_module_version": "1.2.0",
            "grid_template_areas": null,
            "object_position": null,
            "object_fit": null,
            "grid_auto_columns": null,
            "margin": null,
            "display": null,
            "left": null
          }
        },
        "73722b1c49e04e6bb5a827d7869dac93": {
          "model_module": "@jupyter-widgets/controls",
          "model_name": "DescriptionStyleModel",
          "state": {
            "_view_name": "StyleView",
            "_model_name": "DescriptionStyleModel",
            "description_width": "",
            "_view_module": "@jupyter-widgets/base",
            "_model_module_version": "1.5.0",
            "_view_count": null,
            "_view_module_version": "1.2.0",
            "_model_module": "@jupyter-widgets/controls"
          }
        },
        "32a1dc0abfcc470c9b3afc9a0657882a": {
          "model_module": "@jupyter-widgets/base",
          "model_name": "LayoutModel",
          "state": {
            "_view_name": "LayoutView",
            "grid_template_rows": null,
            "right": null,
            "justify_content": null,
            "_view_module": "@jupyter-widgets/base",
            "overflow": null,
            "_model_module_version": "1.2.0",
            "_view_count": null,
            "flex_flow": null,
            "width": null,
            "min_width": null,
            "border": null,
            "align_items": null,
            "bottom": null,
            "_model_module": "@jupyter-widgets/base",
            "top": null,
            "grid_column": null,
            "overflow_y": null,
            "overflow_x": null,
            "grid_auto_flow": null,
            "grid_area": null,
            "grid_template_columns": null,
            "flex": null,
            "_model_name": "LayoutModel",
            "justify_items": null,
            "grid_row": null,
            "max_height": null,
            "align_content": null,
            "visibility": null,
            "align_self": null,
            "height": null,
            "min_height": null,
            "padding": null,
            "grid_auto_rows": null,
            "grid_gap": null,
            "max_width": null,
            "order": null,
            "_view_module_version": "1.2.0",
            "grid_template_areas": null,
            "object_position": null,
            "object_fit": null,
            "grid_auto_columns": null,
            "margin": null,
            "display": null,
            "left": null
          }
        }
      }
    }
  },
  "cells": [
    {
      "cell_type": "markdown",
      "metadata": {
        "id": "view-in-github",
        "colab_type": "text"
      },
      "source": [
        "<a href=\"https://colab.research.google.com/github/hozongsien/PyTorchTutorial/blob/master/PyTorchTutorial.ipynb\" target=\"_parent\"><img src=\"https://colab.research.google.com/assets/colab-badge.svg\" alt=\"Open In Colab\"/></a>"
      ]
    },
    {
      "cell_type": "markdown",
      "metadata": {
        "id": "ZEipXNHfvaV_",
        "colab_type": "text"
      },
      "source": [
        "# Linear Regression\n",
        "[tutorial reference](https://towardsdatascience.com/understanding-pytorch-with-an-example-a-step-by-step-tutorial-81fc5f8c4e8e)"
      ]
    },
    {
      "cell_type": "code",
      "metadata": {
        "id": "XIeyBb2t-lAR",
        "colab_type": "code",
        "colab": {}
      },
      "source": [
        "import numpy as np\n",
        "import matplotlib.pyplot as plt"
      ],
      "execution_count": 0,
      "outputs": []
    },
    {
      "cell_type": "markdown",
      "metadata": {
        "id": "dOdSCp5HMWn9",
        "colab_type": "text"
      },
      "source": [
        "## Linear Regression in Numpy"
      ]
    },
    {
      "cell_type": "markdown",
      "metadata": {
        "id": "WBllh24BLgYo",
        "colab_type": "text"
      },
      "source": [
        "Generating Toy Data"
      ]
    },
    {
      "cell_type": "code",
      "metadata": {
        "id": "DqNiAj2j-tZc",
        "colab_type": "code",
        "colab": {}
      },
      "source": [
        "RANDOM_SEED = 42\n",
        "\n",
        "np.random.seed(RANDOM_SEED)\n",
        "n = 100\n",
        "\n",
        "a = 2\n",
        "b = 1\n",
        "epsilon = 0.1 * np.random.randn(n, 1)\n",
        "\n",
        "x = np.random.rand(n, 1)\n",
        "y = a * x + b + epsilon"
      ],
      "execution_count": 0,
      "outputs": []
    },
    {
      "cell_type": "code",
      "metadata": {
        "id": "5ipvXbCf_Dsv",
        "colab_type": "code",
        "colab": {}
      },
      "source": [
        "idx = np.arange(100)\n",
        "np.random.shuffle(idx)\n",
        "\n",
        "train_idx = idx[:80]\n",
        "val_idx = idx[80:]\n",
        "\n",
        "x_train, y_train = x[train_idx], y[train_idx]\n",
        "x_val, y_val = x[val_idx], y[val_idx]"
      ],
      "execution_count": 0,
      "outputs": []
    },
    {
      "cell_type": "code",
      "metadata": {
        "id": "cGEu2oBQCOPA",
        "colab_type": "code",
        "outputId": "3b8a7bc9-a549-4fbd-9790-881cc74330c4",
        "colab": {
          "base_uri": "https://localhost:8080/",
          "height": 573
        }
      },
      "source": [
        "def plotData(x_data, y_data, title):\n",
        "  plt.plot(x_data, y_data, 'ob', ms=5)\n",
        "  plt.title(title)\n",
        "  plt.ylabel('y')\n",
        "  plt.xlabel('x')\n",
        "  plt.show()\n",
        "\n",
        "plotData(x_train, y_train, 'Train Data')\n",
        "plotData(x_val, y_val, 'Val Data')"
      ],
      "execution_count": 0,
      "outputs": [
        {
          "output_type": "display_data",
          "data": {
            "image/png": "[encoded data removed]",
            "text/plain": [
              "<Figure size 432x288 with 1 Axes>"
            ]
          },
          "metadata": {
            "tags": [],
            "needs_background": "light"
          }
        },
        {
          "output_type": "display_data",
          "data": {
            "image/png": "[encoded data removed]",
            "text/plain": [
              "<Figure size 432x288 with 1 Axes>"
            ]
          },
          "metadata": {
            "tags": [],
            "needs_background": "light"
          }
        }
      ]
    },
    {
      "cell_type": "markdown",
      "metadata": {
        "id": "xi-IW_pvLqEZ",
        "colab_type": "text"
      },
      "source": [
        "Training"
      ]
    },
    {
      "cell_type": "code",
      "metadata": {
        "id": "nRwQrWFTK6P-",
        "colab_type": "code",
        "outputId": "5e20ca14-103c-487c-b09d-1d1c6a553068",
        "colab": {
          "base_uri": "https://localhost:8080/",
          "height": 85
        }
      },
      "source": [
        "# Hyperparams\n",
        "lr = 0.1\n",
        "NUM_EPOCHS = 1000\n",
        "\n",
        "# Initialise random weights\n",
        "a_p = np.random.randn(1)\n",
        "b_p = np.random.randn(1)\n",
        "\n",
        "# BGD\n",
        "for epoch in range(NUM_EPOCHS):\n",
        "  # compute output\n",
        "  y_hat = y = a_p * x_train + b_p \n",
        "  \n",
        "  # compute loss\n",
        "  error = y_train - y_hat\n",
        "  loss = (error ** 2).mean() # MSE\n",
        "\n",
        "  # compute gradient\n",
        "  a_grad = -2 * (x_train * error).mean()\n",
        "  b_grad = -2 * error.mean() \n",
        "\n",
        "  # update params\n",
        "  a_p = a_p - lr * a_grad\n",
        "  b_p = b_p - lr * b_grad\n",
        "\n",
        "print('ground truth:')\n",
        "print('a: {:.3f}; b: {:.3f}'.format(a, b))\n",
        "print('predicted:')\n",
        "print('a: {:.3f}; b: {:.3f}'.format(a_p[0], b_p[0]))"
      ],
      "execution_count": 0,
      "outputs": [
        {
          "output_type": "stream",
          "text": [
            "ground truth:\n",
            "a: 2.000; b: 1.000\n",
            "predicted:\n",
            "a: 2.036; b: 0.968\n"
          ],
          "name": "stdout"
        }
      ]
    },
    {
      "cell_type": "markdown",
      "metadata": {
        "id": "PbA6uWFU5ub-",
        "colab_type": "text"
      },
      "source": [
        "## Linear Regression in PyTorch"
      ]
    },
    {
      "cell_type": "code",
      "metadata": {
        "id": "NGm_0RGW5zn7",
        "colab_type": "code",
        "colab": {}
      },
      "source": [
        "import torch\n",
        "import torch.optim as optim\n",
        "import torch.nn as nn\n",
        "from torch.utils.data import TensorDataset, DataLoader"
      ],
      "execution_count": 0,
      "outputs": []
    },
    {
      "cell_type": "code",
      "metadata": {
        "id": "FVM_uJKLimPS",
        "colab_type": "code",
        "colab": {}
      },
      "source": [
        "torch.manual_seed(RANDOM_SEED)\n",
        "device = 'cuda' if torch.cuda.is_available() else 'cpu'\n",
        "\n",
        "# Hyperparams\n",
        "lr = 0.1\n",
        "NUM_EPOCHS = 1000\n",
        "BATCH_SIZE = 16\n",
        "VAL_BATCH_SIZE = 20"
      ],
      "execution_count": 0,
      "outputs": []
    },
    {
      "cell_type": "markdown",
      "metadata": {
        "id": "tNpyhr5wOrF7",
        "colab_type": "text"
      },
      "source": [
        "Linear regression model"
      ]
    },
    {
      "cell_type": "code",
      "metadata": {
        "id": "h5CxJmJ0OplF",
        "colab_type": "code",
        "colab": {}
      },
      "source": [
        "class LinearRegression(nn.Module):\n",
        "    def __init__(self):\n",
        "        super().__init__()\n",
        "        self.linear = nn.Linear(1, 1)\n",
        "        \n",
        "    def forward(self, x):\n",
        "        return self.linear(x)"
      ],
      "execution_count": 0,
      "outputs": []
    },
    {
      "cell_type": "markdown",
      "metadata": {
        "id": "UfyJivejOwMe",
        "colab_type": "text"
      },
      "source": [
        "Data preparation"
      ]
    },
    {
      "cell_type": "code",
      "metadata": {
        "id": "dV8F2WY36Ug6",
        "colab_type": "code",
        "outputId": "d29dd1f8-a38f-433f-d22c-ff1b895206ca",
        "colab": {
          "base_uri": "https://localhost:8080/",
          "height": 54
        }
      },
      "source": [
        "# train set\n",
        "x_train_tensor = torch.from_numpy(x_train).float()\n",
        "y_train_tensor = torch.from_numpy(y_train).float()\n",
        "\n",
        "train_data = TensorDataset(x_train_tensor, \n",
        "                           y_train_tensor) # list of observations as tuples (x, y)\n",
        "train_loader = DataLoader(dataset=train_data, \n",
        "                          batch_size=BATCH_SIZE, \n",
        "                          shuffle=True) # split into mini batches\n",
        "\n",
        "# validation set\n",
        "x_val_tensor = torch.from_numpy(x_val).float()\n",
        "y_val_tensor = torch.from_numpy(y_val).float()\n",
        "\n",
        "val_data = TensorDataset(x_val_tensor, \n",
        "                         y_val_tensor)\n",
        "val_loader = DataLoader(dataset=val_data, \n",
        "                        batch_size=VAL_BATCH_SIZE, \n",
        "                        shuffle=False)\n",
        "\n",
        "# model\n",
        "model = LinearRegression().to(device)\n",
        "print(model.state_dict())"
      ],
      "execution_count": 0,
      "outputs": [
        {
          "output_type": "stream",
          "text": [
            "OrderedDict([('linear.weight', tensor([[-0.3693]], device='cuda:0')), ('linear.bias', tensor([0.2237], device='cuda:0'))])\n"
          ],
          "name": "stdout"
        }
      ]
    },
    {
      "cell_type": "markdown",
      "metadata": {
        "id": "2-tUSZJSi5d8",
        "colab_type": "text"
      },
      "source": [
        "Training"
      ]
    },
    {
      "cell_type": "code",
      "metadata": {
        "id": "W3c8w12bgsDH",
        "colab_type": "code",
        "colab": {}
      },
      "source": [
        "def make_train_step(model, criterion, optimizer):\n",
        "  def train_step(x, y):\n",
        "    model.train()\n",
        "\n",
        "    # compute output\n",
        "    y_hat = model(x)\n",
        "\n",
        "    # compute loss\n",
        "    loss = criterion(y, y_hat)\n",
        "\n",
        "    # compute gradient \n",
        "    loss.backward()\n",
        "\n",
        "    # update params\n",
        "    optimizer.step()\n",
        "\n",
        "    # reset gradients\n",
        "    optimizer.zero_grad()\n",
        "\n",
        "    return loss.item()\n",
        "\n",
        "  return train_step\n",
        "\n",
        "\n",
        "def make_val_step(model, criterion):\n",
        "  def val_step(x, y):\n",
        "    model.eval()\n",
        "\n",
        "    y_hat = model(x)\n",
        "    loss = criterion(y, y_hat)\n",
        "    return loss.item()\n",
        "\n",
        "  return val_step"
      ],
      "execution_count": 0,
      "outputs": []
    },
    {
      "cell_type": "code",
      "metadata": {
        "id": "RYq6iHRR-ijb",
        "colab_type": "code",
        "outputId": "636df2e2-3e1f-42af-8516-27b2ba532c54",
        "colab": {
          "base_uri": "https://localhost:8080/",
          "height": 289
        }
      },
      "source": [
        "# Define loss\n",
        "criterion = nn.MSELoss(reduction='mean')\n",
        "\n",
        "# Define optimizer\n",
        "optimizer = optim.SGD(model.parameters(), lr=lr)\n",
        "\n",
        "# Mini-BGD\n",
        "train_step = make_train_step(model, criterion, optimizer)\n",
        "val_step = make_val_step(model, criterion)\n",
        "\n",
        "losses = []\n",
        "val_losses = []\n",
        "for epoch in range(NUM_EPOCHS):\n",
        "  for i, (x_train_mini, y_train_mini) in enumerate(train_loader):\n",
        "    x_train_mini = x_train_mini.to(device)\n",
        "    y_train_mini = y_train_mini.to(device)\n",
        "\n",
        "    loss = train_step(x_train_mini, y_train_mini)\n",
        "    losses.append(loss)\n",
        "\n",
        "    with torch.no_grad():\n",
        "      for j, (x_val_mini, y_val_mini) in enumerate(val_loader):\n",
        "        x_val_mini = x_val_mini.to(device)\n",
        "        y_val_mini = y_val_mini.to(device)\n",
        "\n",
        "        val_loss = val_step(x_val_mini, y_val_mini)\n",
        "        val_losses.append(val_loss)\n",
        "  \n",
        "  if epoch % 100 == 99:\n",
        "    print('epoch: {} loss: {:.3f} val loss: {:.3f}'.\n",
        "          format(epoch + 1, \n",
        "                 losses[(epoch+1) * (i+1) - 1], \n",
        "                 val_losses[(epoch+1) * (j+1) - 1]))\n",
        "\n",
        "print('Finished Training')\n",
        "print()\n",
        "\n",
        "print('ground truth:')\n",
        "print('a: {:.3f}; b: {:.3f}'.format(a, b))\n",
        "print('predicted:')\n",
        "print('a: {:.3f}; b: {:.3f}'.format(model.state_dict()['linear.weight'].item(),\n",
        "                                    model.state_dict()['linear.bias'].item()))"
      ],
      "execution_count": 0,
      "outputs": [
        {
          "output_type": "stream",
          "text": [
            "epoch: 100 loss: 0.016 val loss: 0.006\n",
            "epoch: 200 loss: 0.007 val loss: 0.006\n",
            "epoch: 300 loss: 0.007 val loss: 0.006\n",
            "epoch: 400 loss: 0.013 val loss: 0.006\n",
            "epoch: 500 loss: 0.008 val loss: 0.006\n",
            "epoch: 600 loss: 0.011 val loss: 0.006\n",
            "epoch: 700 loss: 0.007 val loss: 0.006\n",
            "epoch: 800 loss: 0.006 val loss: 0.006\n",
            "epoch: 900 loss: 0.011 val loss: 0.006\n",
            "epoch: 1000 loss: 0.007 val loss: 0.006\n",
            "Finished Training\n",
            "\n",
            "ground truth:\n",
            "a: 2.000; b: 1.000\n",
            "predicted:\n",
            "a: 2.037; b: 0.970\n"
          ],
          "name": "stdout"
        }
      ]
    },
    {
      "cell_type": "markdown",
      "metadata": {
        "id": "HSLQ-7Ee3rWo",
        "colab_type": "text"
      },
      "source": [
        "# Convolutional Neural Networks (CNN)"
      ]
    },
    {
      "cell_type": "markdown",
      "metadata": {
        "id": "u51xxoo_Y3je",
        "colab_type": "text"
      },
      "source": [
        "## Image Recognition CIFAR10\n",
        "[tutorial reference](https://pytorch.org/tutorials/beginner/blitz/cifar10_tutorial.html)"
      ]
    },
    {
      "cell_type": "code",
      "metadata": {
        "id": "YyBHHzAy3wiC",
        "colab_type": "code",
        "colab": {}
      },
      "source": [
        "import torch\n",
        "import torch.nn as nn\n",
        "import torch.nn.functional as F\n",
        "import torch.optim as optim\n",
        "import torchvision\n",
        "import torchvision.transforms as transforms\n",
        "from torchvision.datasets import CIFAR10\n",
        "from torch.utils.data import DataLoader\n",
        "import matplotlib.pyplot as plt\n",
        "import numpy as np"
      ],
      "execution_count": 0,
      "outputs": []
    },
    {
      "cell_type": "markdown",
      "metadata": {
        "id": "g05v7Qbe_vhD",
        "colab_type": "text"
      },
      "source": [
        "### Configuration"
      ]
    },
    {
      "cell_type": "code",
      "metadata": {
        "id": "iPfFSK8x_y50",
        "colab_type": "code",
        "colab": {}
      },
      "source": [
        "PATH = './cifar_net.pth'\n",
        "\n",
        "device = 'cuda' if torch.cuda.is_available() else 'cpu'\n",
        "\n",
        "# Hyperparams\n",
        "lr = 0.001\n",
        "momentum = 0.9\n",
        "NUM_EPOCHS = 2\n",
        "BATCH_SIZE = 4\n",
        "VAL_BATCH_SIZE = 4"
      ],
      "execution_count": 0,
      "outputs": []
    },
    {
      "cell_type": "markdown",
      "metadata": {
        "id": "gMaV1BBu5Si7",
        "colab_type": "text"
      },
      "source": [
        "### Data Preparation"
      ]
    },
    {
      "cell_type": "code",
      "metadata": {
        "id": "nkynlEh430T2",
        "colab_type": "code",
        "colab": {
          "base_uri": "https://localhost:8080/",
          "height": 100,
          "referenced_widgets": [
            "cf45c5dd6989411da9fff63619dbc9b6",
            "8bf8422f4f6c4cb1b14f0c79d6add8f0",
            "7393f3cac29949bca3d4359cf68a0e6b",
            "6fdb4464a835445a87033cb071c44bc9",
            "79c5fff4db084c04a353200a983fb1e1",
            "6f52d447fd8e44fabba57ee3f04de4dd",
            "73722b1c49e04e6bb5a827d7869dac93",
            "32a1dc0abfcc470c9b3afc9a0657882a"
          ]
        },
        "outputId": "37567aae-7820-4f83-d175-6b2f86002816"
      },
      "source": [
        "# Prepare images\n",
        "transform = transforms.Compose(\n",
        "    [transforms.ToTensor(),\n",
        "     transforms.Normalize((0.5, 0.5, 0.5), (0.5, 0.5, 0.5))])\n",
        "\n",
        "# Prepare batches\n",
        "trainset = CIFAR10(root='./data', train=True,\n",
        "                   download=True, transform=transform)\n",
        "trainloader = DataLoader(trainset, batch_size=BATCH_SIZE, shuffle=True, num_workers=2)\n",
        "\n",
        "testset = CIFAR10(root='./data', train=False,\n",
        "                  download=True, transform=transform)\n",
        "testloader = DataLoader(testset, batch_size=VAL_BATCH_SIZE,\n",
        "                        shuffle=False, num_workers=2)\n",
        "\n",
        "classes = ('plane', 'car', 'bird', 'cat',\n",
        "           'deer', 'dog', 'frog', 'horse', 'ship', 'truck')"
      ],
      "execution_count": 3,
      "outputs": [
        {
          "output_type": "stream",
          "text": [
            "Downloading https://www.cs.toronto.edu/~kriz/cifar-10-python.tar.gz to ./data/cifar-10-python.tar.gz\n"
          ],
          "name": "stdout"
        },
        {
          "output_type": "display_data",
          "data": {
            "application/vnd.jupyter.widget-view+json": {
              "model_id": "cf45c5dd6989411da9fff63619dbc9b6",
              "version_minor": 0,
              "version_major": 2
            },
            "text/plain": [
              "HBox(children=(FloatProgress(value=1.0, bar_style='info', max=1.0), HTML(value='')))"
            ]
          },
          "metadata": {
            "tags": []
          }
        },
        {
          "output_type": "stream",
          "text": [
            "Extracting ./data/cifar-10-python.tar.gz to ./data\n",
            "Files already downloaded and verified\n"
          ],
          "name": "stdout"
        }
      ]
    },
    {
      "cell_type": "code",
      "metadata": {
        "id": "IPyxNoqD49La",
        "colab_type": "code",
        "colab": {
          "base_uri": "https://localhost:8080/",
          "height": 155
        },
        "outputId": "afbad95a-b8a2-4fc5-b76d-a29acf58ed8b"
      },
      "source": [
        "def imshow(img):\n",
        "    img = img / 2 + 0.5     # unnormalize\n",
        "    npimg = img.numpy()\n",
        "    plt.imshow(np.transpose(npimg, (1, 2, 0)))\n",
        "    plt.show()\n",
        "\n",
        "\n",
        "# get some random training images\n",
        "dataiter = iter(trainloader)\n",
        "images, labels = dataiter.next()\n",
        "\n",
        "# show images\n",
        "imshow(torchvision.utils.make_grid(images))\n",
        "# print labels\n",
        "print(' '.join('%5s' % classes[labels[j]] for j in range(4)))"
      ],
      "execution_count": 4,
      "outputs": [
        {
          "output_type": "display_data",
          "data": {
            "image/png": "[encoded data removed]",
            "text/plain": [
              "<Figure size 432x288 with 1 Axes>"
            ]
          },
          "metadata": {
            "tags": [],
            "needs_background": "light"
          }
        },
        {
          "output_type": "stream",
          "text": [
            "plane plane  deer   dog\n"
          ],
          "name": "stdout"
        }
      ]
    },
    {
      "cell_type": "markdown",
      "metadata": {
        "id": "7qRMWZn75P4p",
        "colab_type": "text"
      },
      "source": [
        "### CNN Model"
      ]
    },
    {
      "cell_type": "code",
      "metadata": {
        "id": "R8LXw_r25PTb",
        "colab_type": "code",
        "colab": {}
      },
      "source": [
        "class Net(nn.Module):\n",
        "    def __init__(self):\n",
        "        super(Net, self).__init__()\n",
        "        self.conv1 = nn.Conv2d(3, 6, 5)\n",
        "        self.pool = nn.MaxPool2d(2, 2)\n",
        "        self.conv2 = nn.Conv2d(6, 16, 5)\n",
        "        self.fc1 = nn.Linear(16 * 5 * 5, 120)\n",
        "        self.fc2 = nn.Linear(120, 84)\n",
        "        self.fc3 = nn.Linear(84, 10)\n",
        "\n",
        "    def forward(self, x):\n",
        "        x = self.pool(F.relu(self.conv1(x)))\n",
        "        x = self.pool(F.relu(self.conv2(x)))\n",
        "        x = x.view(-1, 16 * 5 * 5)\n",
        "        x = F.relu(self.fc1(x))\n",
        "        x = F.relu(self.fc2(x))\n",
        "        x = self.fc3(x)\n",
        "        return x"
      ],
      "execution_count": 0,
      "outputs": []
    },
    {
      "cell_type": "code",
      "metadata": {
        "id": "vWgZwf1Q83lE",
        "colab_type": "code",
        "colab": {}
      },
      "source": [
        "net = Net().to(device)\n",
        "criterion = nn.CrossEntropyLoss()\n",
        "optimizer = optim.SGD(net.parameters(), lr=lr, momentum=momentum)"
      ],
      "execution_count": 0,
      "outputs": []
    },
    {
      "cell_type": "markdown",
      "metadata": {
        "id": "8i9Ioy6E_mRf",
        "colab_type": "text"
      },
      "source": [
        "### Training"
      ]
    },
    {
      "cell_type": "code",
      "metadata": {
        "id": "0xONdKJvBJag",
        "colab_type": "code",
        "colab": {}
      },
      "source": [
        "def make_train_step(net, criterion, optimizer):\n",
        "  def train_step(inputs, labels):\n",
        "    optimizer.zero_grad()\n",
        "\n",
        "    outputs = net(inputs)\n",
        "    loss = criterion(outputs, labels)\n",
        "    loss.backward()\n",
        "    optimizer.step()\n",
        "\n",
        "    return loss.item()\n",
        "\n",
        "  return train_step\n",
        "\n",
        "def make_val_step(net, criterion):\n",
        "    def val_step(inputs, labels):\n",
        "      outputs = model(inputs)\n",
        "      loss = criterion(outputs, labels)\n",
        "      return loss.item()\n",
        "      \n",
        "    return val_step\n",
        "\n",
        "def make_test_step(net):\n",
        "  def test_step(inputs):\n",
        "    outputs = net(inputs)\n",
        "    _, predicted = torch.max(outputs, 1)\n",
        "\n",
        "    return predicted\n",
        "\n",
        "  return test_step"
      ],
      "execution_count": 0,
      "outputs": []
    },
    {
      "cell_type": "code",
      "metadata": {
        "id": "SeCZwUIh9Fol",
        "colab_type": "code",
        "colab": {
          "base_uri": "https://localhost:8080/",
          "height": 238
        },
        "outputId": "fbee1221-8a20-4441-9efe-987f4dfa9952"
      },
      "source": [
        "train_step = make_train_step(net, criterion, optimizer)\n",
        "\n",
        "losses = []\n",
        "running_loss = 0.0\n",
        "for epoch in range(NUM_EPOCHS):\n",
        "  for i, (inputs, labels) in enumerate(trainloader):\n",
        "    inputs = inputs.to(device)\n",
        "    labels = labels.to(device)\n",
        "\n",
        "    loss = train_step(inputs, labels)\n",
        "    losses.append(loss)\n",
        "\n",
        "    running_loss += loss\n",
        "    if i % 2000 == 1999:    # print every 2000 mini-batches\n",
        "        print('[%d, %5d] loss: %.3f' %\n",
        "              (epoch + 1, i + 1, running_loss / 2000))\n",
        "        running_loss = 0.0\n",
        "\n",
        "print('Finished Training')"
      ],
      "execution_count": 9,
      "outputs": [
        {
          "output_type": "stream",
          "text": [
            "[1,  2000] loss: 1.720\n",
            "[1,  4000] loss: 1.605\n",
            "[1,  6000] loss: 1.528\n",
            "[1,  8000] loss: 1.477\n",
            "[1, 10000] loss: 1.428\n",
            "[1, 12000] loss: 1.388\n",
            "[2,  2000] loss: 1.663\n",
            "[2,  4000] loss: 1.292\n",
            "[2,  6000] loss: 1.288\n",
            "[2,  8000] loss: 1.251\n",
            "[2, 10000] loss: 1.240\n",
            "[2, 12000] loss: 1.231\n",
            "Finished Training\n"
          ],
          "name": "stdout"
        }
      ]
    },
    {
      "cell_type": "markdown",
      "metadata": {
        "id": "JlFqrYWhGuCB",
        "colab_type": "text"
      },
      "source": [
        "Save model"
      ]
    },
    {
      "cell_type": "code",
      "metadata": {
        "id": "AUC-F_GnGtCB",
        "colab_type": "code",
        "colab": {}
      },
      "source": [
        "torch.save(net.state_dict(), PATH)"
      ],
      "execution_count": 0,
      "outputs": []
    },
    {
      "cell_type": "markdown",
      "metadata": {
        "id": "r3OwZTO9Ge4V",
        "colab_type": "text"
      },
      "source": [
        "### Test"
      ]
    },
    {
      "cell_type": "code",
      "metadata": {
        "id": "Z7eff-U5Gepf",
        "colab_type": "code",
        "colab": {
          "base_uri": "https://localhost:8080/",
          "height": 155
        },
        "outputId": "b151efbb-068b-4c12-9d28-f706dc250b4c"
      },
      "source": [
        "dataiter = iter(testloader)\n",
        "images, labels = dataiter.next()\n",
        "\n",
        "# print images\n",
        "imshow(torchvision.utils.make_grid(images))\n",
        "print('GroundTruth: ', ' '.join('%5s' % classes[labels[j]] for j in range(4)))"
      ],
      "execution_count": 11,
      "outputs": [
        {
          "output_type": "display_data",
          "data": {
            "image/png": "[encoded data removed]",
            "text/plain": [
              "<Figure size 432x288 with 1 Axes>"
            ]
          },
          "metadata": {
            "tags": [],
            "needs_background": "light"
          }
        },
        {
          "output_type": "stream",
          "text": [
            "GroundTruth:    cat  ship  ship plane\n"
          ],
          "name": "stdout"
        }
      ]
    },
    {
      "cell_type": "code",
      "metadata": {
        "id": "Xb3hTcjXHIKO",
        "colab_type": "code",
        "colab": {
          "base_uri": "https://localhost:8080/",
          "height": 34
        },
        "outputId": "4e36ce50-d449-4e21-bd1a-5b8dc6d96a34"
      },
      "source": [
        "# Load model\n",
        "net = Net()\n",
        "net.load_state_dict(torch.load(PATH))\n",
        "\n",
        "# Predict\n",
        "outputs = net(images)\n",
        "_, predicted = torch.max(outputs, 1)\n",
        "\n",
        "print('Predicted: ', ' '.join('%5s' % classes[predicted[j]]\n",
        "                              for j in range(4)))"
      ],
      "execution_count": 16,
      "outputs": [
        {
          "output_type": "stream",
          "text": [
            "Predicted:   frog   dog   car horse\n"
          ],
          "name": "stdout"
        }
      ]
    },
    {
      "cell_type": "markdown",
      "metadata": {
        "id": "KPgDPIU-Zg9K",
        "colab_type": "text"
      },
      "source": [
        "Accuracy"
      ]
    },
    {
      "cell_type": "code",
      "metadata": {
        "id": "bCkNAuvOZZPL",
        "colab_type": "code",
        "colab": {
          "base_uri": "https://localhost:8080/",
          "height": 34
        },
        "outputId": "7494db9e-0216-4f8a-e9fd-820814a97d74"
      },
      "source": [
        "test_step = make_test_step(net)\n",
        "\n",
        "correct = 0\n",
        "total = 0\n",
        "with torch.no_grad():\n",
        "  for inputs, labels in testloader:\n",
        "    predicted = test_step(inputs)\n",
        "    total += labels.size(0)\n",
        "    correct += (predicted == labels).sum().item()\n",
        "\n",
        "print('Accuracy of the network on the 10000 test images: %d %%' % (\n",
        "    100 * correct / total))"
      ],
      "execution_count": 17,
      "outputs": [
        {
          "output_type": "stream",
          "text": [
            "Accuracy of the network on the 10000 test images: 56 %\n"
          ],
          "name": "stdout"
        }
      ]
    },
    {
      "cell_type": "markdown",
      "metadata": {
        "id": "-4IX8uGhZeum",
        "colab_type": "text"
      },
      "source": [
        "Confusion Matrix"
      ]
    },
    {
      "cell_type": "code",
      "metadata": {
        "id": "QzH_z4m6ZeH7",
        "colab_type": "code",
        "colab": {
          "base_uri": "https://localhost:8080/",
          "height": 187
        },
        "outputId": "263bd4e9-a4b6-4614-aaf3-2293a24c60ee"
      },
      "source": [
        "class_correct = list(0. for i in range(10))\n",
        "class_total = list(0. for i in range(10))\n",
        "with torch.no_grad():\n",
        "    for inputs, labels in testloader:\n",
        "        predicted = test_step(inputs)\n",
        "        \n",
        "        c = (predicted == labels).squeeze()\n",
        "        for i in range(4):\n",
        "            label = labels[i]\n",
        "            class_correct[label] += c[i].item()\n",
        "            class_total[label] += 1\n",
        "\n",
        "\n",
        "for i in range(10):\n",
        "    print('Accuracy of %5s : %2d %%' % (\n",
        "        classes[i], 100 * class_correct[i] / class_total[i]))"
      ],
      "execution_count": 18,
      "outputs": [
        {
          "output_type": "stream",
          "text": [
            "Accuracy of plane : 74 %\n",
            "Accuracy of   car : 68 %\n",
            "Accuracy of  bird : 55 %\n",
            "Accuracy of   cat : 20 %\n",
            "Accuracy of  deer : 47 %\n",
            "Accuracy of   dog : 50 %\n",
            "Accuracy of  frog : 67 %\n",
            "Accuracy of horse : 53 %\n",
            "Accuracy of  ship : 64 %\n",
            "Accuracy of truck : 65 %\n"
          ],
          "name": "stdout"
        }
      ]
    }
  ]
}