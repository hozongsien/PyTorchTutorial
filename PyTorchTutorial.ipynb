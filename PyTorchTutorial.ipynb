{
  "nbformat": 4,
  "nbformat_minor": 0,
  "metadata": {
    "colab": {
      "name": "PyTorchTutorial.ipynb",
      "provenance": [],
      "authorship_tag": "ABX9TyOy7ZjrzslUrjThiOiyb5eK",
      "include_colab_link": true
    },
    "kernelspec": {
      "name": "python3",
      "display_name": "Python 3"
    },
    "accelerator": "GPU"
  },
  "cells": [
    {
      "cell_type": "markdown",
      "metadata": {
        "id": "view-in-github",
        "colab_type": "text"
      },
      "source": [
        "<a href=\"https://colab.research.google.com/github/hozongsien/PyTorchTutorial/blob/master/PyTorchTutorial.ipynb\" target=\"_parent\"><img src=\"https://colab.research.google.com/assets/colab-badge.svg\" alt=\"Open In Colab\"/></a>"
      ]
    },
    {
      "cell_type": "markdown",
      "metadata": {
        "id": "ZEipXNHfvaV_",
        "colab_type": "text"
      },
      "source": [
        "# Linear Regression\n",
        "[tutorial reference](https://towardsdatascience.com/understanding-pytorch-with-an-example-a-step-by-step-tutorial-81fc5f8c4e8e"
      ]
    },
    {
      "cell_type": "code",
      "metadata": {
        "id": "XIeyBb2t-lAR",
        "colab_type": "code",
        "colab": {}
      },
      "source": [
        "import numpy as np\n",
        "import matplotlib.pyplot as plt"
      ],
      "execution_count": 0,
      "outputs": []
    },
    {
      "cell_type": "markdown",
      "metadata": {
        "id": "dOdSCp5HMWn9",
        "colab_type": "text"
      },
      "source": [
        "## Linear Regression in Numpy"
      ]
    },
    {
      "cell_type": "markdown",
      "metadata": {
        "id": "WBllh24BLgYo",
        "colab_type": "text"
      },
      "source": [
        "Generating Toy Data"
      ]
    },
    {
      "cell_type": "code",
      "metadata": {
        "id": "DqNiAj2j-tZc",
        "colab_type": "code",
        "colab": {}
      },
      "source": [
        "RANDOM_SEED = 42\n",
        "\n",
        "np.random.seed(RANDOM_SEED)\n",
        "n = 100\n",
        "\n",
        "a = 2\n",
        "b = 1\n",
        "epsilon = 0.1 * np.random.randn(n, 1)\n",
        "\n",
        "x = np.random.rand(n, 1)\n",
        "y = a * x + b + epsilon"
      ],
      "execution_count": 0,
      "outputs": []
    },
    {
      "cell_type": "code",
      "metadata": {
        "id": "5ipvXbCf_Dsv",
        "colab_type": "code",
        "colab": {}
      },
      "source": [
        "idx = np.arange(100)\n",
        "np.random.shuffle(idx)\n",
        "\n",
        "train_idx = idx[:80]\n",
        "val_idx = idx[80:]\n",
        "\n",
        "x_train, y_train = x[train_idx], y[train_idx]\n",
        "x_val, y_val = x[val_idx], y[val_idx]"
      ],
      "execution_count": 0,
      "outputs": []
    },
    {
      "cell_type": "code",
      "metadata": {
        "id": "cGEu2oBQCOPA",
        "colab_type": "code",
        "outputId": "3b8a7bc9-a549-4fbd-9790-881cc74330c4",
        "colab": {
          "base_uri": "https://localhost:8080/",
          "height": 573
        }
      },
      "source": [
        "def plotData(x_data, y_data, title):\n",
        "  plt.plot(x_data, y_data, 'ob', ms=5)\n",
        "  plt.title(title)\n",
        "  plt.ylabel('y')\n",
        "  plt.xlabel('x')\n",
        "  plt.show()\n",
        "\n",
        "plotData(x_train, y_train, 'Train Data')\n",
        "plotData(x_val, y_val, 'Val Data')"
      ],
      "execution_count": 195,
      "outputs": [
        {
          "output_type": "display_data",
          "data": {
            "image/png": "[encoded data removed]",
            "text/plain": [
              "<Figure size 432x288 with 1 Axes>"
            ]
          },
          "metadata": {
            "tags": [],
            "needs_background": "light"
          }
        },
        {
          "output_type": "display_data",
          "data": {
            "image/png": "[encoded data removed]",
            "text/plain": [
              "<Figure size 432x288 with 1 Axes>"
            ]
          },
          "metadata": {
            "tags": [],
            "needs_background": "light"
          }
        }
      ]
    },
    {
      "cell_type": "markdown",
      "metadata": {
        "id": "xi-IW_pvLqEZ",
        "colab_type": "text"
      },
      "source": [
        "Training"
      ]
    },
    {
      "cell_type": "code",
      "metadata": {
        "id": "nRwQrWFTK6P-",
        "colab_type": "code",
        "outputId": "5e20ca14-103c-487c-b09d-1d1c6a553068",
        "colab": {
          "base_uri": "https://localhost:8080/",
          "height": 85
        }
      },
      "source": [
        "# Hyperparams\n",
        "lr = 0.1\n",
        "NUM_EPOCHS = 1000\n",
        "\n",
        "# Initialise random weights\n",
        "a_p = np.random.randn(1)\n",
        "b_p = np.random.randn(1)\n",
        "\n",
        "# BGD\n",
        "for epoch in range(NUM_EPOCHS):\n",
        "  # compute output\n",
        "  y_hat = y = a_p * x_train + b_p \n",
        "  \n",
        "  # compute loss\n",
        "  error = y_train - y_hat\n",
        "  loss = (error ** 2).mean() # MSE\n",
        "\n",
        "  # compute gradient\n",
        "  a_grad = -2 * (x_train * error).mean()\n",
        "  b_grad = -2 * error.mean() \n",
        "\n",
        "  # update params\n",
        "  a_p = a_p - lr * a_grad\n",
        "  b_p = b_p - lr * b_grad\n",
        "\n",
        "print('ground truth:')\n",
        "print('a: {:.3f}; b: {:.3f}'.format(a, b))\n",
        "print('predicted:')\n",
        "print('a: {:.3f}; b: {:.3f}'.format(a_p[0], b_p[0]))"
      ],
      "execution_count": 196,
      "outputs": [
        {
          "output_type": "stream",
          "text": [
            "ground truth:\n",
            "a: 2.000; b: 1.000\n",
            "predicted:\n",
            "a: 2.036; b: 0.968\n"
          ],
          "name": "stdout"
        }
      ]
    },
    {
      "cell_type": "markdown",
      "metadata": {
        "id": "PbA6uWFU5ub-",
        "colab_type": "text"
      },
      "source": [
        "## Linear Regression in PyTorch"
      ]
    },
    {
      "cell_type": "code",
      "metadata": {
        "id": "NGm_0RGW5zn7",
        "colab_type": "code",
        "colab": {}
      },
      "source": [
        "import torch\n",
        "import torch.optim as optim\n",
        "import torch.nn as nn\n",
        "from torch.utils.data import TensorDataset, DataLoader"
      ],
      "execution_count": 0,
      "outputs": []
    },
    {
      "cell_type": "code",
      "metadata": {
        "id": "FVM_uJKLimPS",
        "colab_type": "code",
        "colab": {}
      },
      "source": [
        "torch.manual_seed(RANDOM_SEED)\n",
        "device = 'cuda' if torch.cuda.is_available() else 'cpu'\n",
        "\n",
        "# Hyperparams\n",
        "lr = 0.1\n",
        "NUM_EPOCHS = 1000\n",
        "BATCH_SIZE = 16\n",
        "VAL_BATCH_SIZE = 20"
      ],
      "execution_count": 0,
      "outputs": []
    },
    {
      "cell_type": "markdown",
      "metadata": {
        "id": "tNpyhr5wOrF7",
        "colab_type": "text"
      },
      "source": [
        "Linear regression model"
      ]
    },
    {
      "cell_type": "code",
      "metadata": {
        "id": "h5CxJmJ0OplF",
        "colab_type": "code",
        "colab": {}
      },
      "source": [
        "class LinearRegression(nn.Module):\n",
        "    def __init__(self):\n",
        "        super().__init__()\n",
        "        self.linear = nn.Linear(1, 1)\n",
        "        \n",
        "    def forward(self, x):\n",
        "        return self.linear(x)"
      ],
      "execution_count": 0,
      "outputs": []
    },
    {
      "cell_type": "markdown",
      "metadata": {
        "id": "UfyJivejOwMe",
        "colab_type": "text"
      },
      "source": [
        "Data preparation"
      ]
    },
    {
      "cell_type": "code",
      "metadata": {
        "id": "dV8F2WY36Ug6",
        "colab_type": "code",
        "colab": {
          "base_uri": "https://localhost:8080/",
          "height": 54
        },
        "outputId": "d29dd1f8-a38f-433f-d22c-ff1b895206ca"
      },
      "source": [
        "# train set\n",
        "x_train_tensor = torch.from_numpy(x_train).float()\n",
        "y_train_tensor = torch.from_numpy(y_train).float()\n",
        "\n",
        "train_data = TensorDataset(x_train_tensor, \n",
        "                           y_train_tensor) # list of observations as tuples (x, y)\n",
        "train_loader = DataLoader(dataset=train_data, \n",
        "                          batch_size=BATCH_SIZE, \n",
        "                          shuffle=True) # split into mini batches\n",
        "\n",
        "# validation set\n",
        "x_val_tensor = torch.from_numpy(x_val).float()\n",
        "y_val_tensor = torch.from_numpy(y_val).float()\n",
        "\n",
        "val_data = TensorDataset(x_val_tensor, \n",
        "                         y_val_tensor)\n",
        "val_loader = DataLoader(dataset=val_data, \n",
        "                        batch_size=VAL_BATCH_SIZE, \n",
        "                        shuffle=False)\n",
        "\n",
        "# model\n",
        "model = LinearRegression().to(device)\n",
        "print(model.state_dict())"
      ],
      "execution_count": 204,
      "outputs": [
        {
          "output_type": "stream",
          "text": [
            "OrderedDict([('linear.weight', tensor([[-0.3693]], device='cuda:0')), ('linear.bias', tensor([0.2237], device='cuda:0'))])\n"
          ],
          "name": "stdout"
        }
      ]
    },
    {
      "cell_type": "markdown",
      "metadata": {
        "id": "2-tUSZJSi5d8",
        "colab_type": "text"
      },
      "source": [
        "Training"
      ]
    },
    {
      "cell_type": "code",
      "metadata": {
        "id": "W3c8w12bgsDH",
        "colab_type": "code",
        "colab": {}
      },
      "source": [
        "def make_train_step(model, criterion, optimizer):\n",
        "  def train_step(x, y):\n",
        "    model.train()\n",
        "\n",
        "    # compute output\n",
        "    y_hat = model(x)\n",
        "\n",
        "    # compute loss\n",
        "    loss = criterion(y, y_hat)\n",
        "\n",
        "    # compute gradient \n",
        "    loss.backward()\n",
        "\n",
        "    # update params\n",
        "    optimizer.step()\n",
        "\n",
        "    # reset gradients\n",
        "    optimizer.zero_grad()\n",
        "\n",
        "    return loss.item()\n",
        "\n",
        "  return train_step\n",
        "\n",
        "\n",
        "def make_val_step(model, criterion):\n",
        "  def val_step(x, y):\n",
        "    model.eval()\n",
        "\n",
        "    y_hat = model(x)\n",
        "    loss = criterion(y, y_hat)\n",
        "    return loss.item()\n",
        "\n",
        "  return val_step"
      ],
      "execution_count": 0,
      "outputs": []
    },
    {
      "cell_type": "code",
      "metadata": {
        "id": "RYq6iHRR-ijb",
        "colab_type": "code",
        "colab": {
          "base_uri": "https://localhost:8080/",
          "height": 289
        },
        "outputId": "636df2e2-3e1f-42af-8516-27b2ba532c54"
      },
      "source": [
        "# Define loss\n",
        "criterion = nn.MSELoss(reduction='mean')\n",
        "\n",
        "# Define optimizer\n",
        "optimizer = optim.SGD(model.parameters(), lr=lr)\n",
        "\n",
        "# Mini-BGD\n",
        "train_step = make_train_step(model, criterion, optimizer)\n",
        "val_step = make_val_step(model, criterion)\n",
        "\n",
        "losses = []\n",
        "val_losses = []\n",
        "for epoch in range(NUM_EPOCHS):\n",
        "  for i, (x_train_mini, y_train_mini) in enumerate(train_loader):\n",
        "    x_train_mini = x_train_mini.to(device)\n",
        "    y_train_mini = y_train_mini.to(device)\n",
        "\n",
        "    loss = train_step(x_train_mini, y_train_mini)\n",
        "    losses.append(loss)\n",
        "\n",
        "    with torch.no_grad():\n",
        "      for j, (x_val_mini, y_val_mini) in enumerate(val_loader):\n",
        "        x_val_mini = x_val_mini.to(device)\n",
        "        y_val_mini = y_val_mini.to(device)\n",
        "\n",
        "        val_loss = val_step(x_val_mini, y_val_mini)\n",
        "        val_losses.append(val_loss)\n",
        "  \n",
        "  if epoch % 100 == 99:\n",
        "    print('epoch: {} loss: {:.3f} val loss: {:.3f}'.\n",
        "          format(epoch + 1, \n",
        "                 losses[(epoch+1) * (i+1) - 1], \n",
        "                 val_losses[(epoch+1) * (j+1) - 1]))\n",
        "\n",
        "print('Finished Training')\n",
        "print()\n",
        "\n",
        "print('ground truth:')\n",
        "print('a: {:.3f}; b: {:.3f}'.format(a, b))\n",
        "print('predicted:')\n",
        "print('a: {:.3f}; b: {:.3f}'.format(model.state_dict()['linear.weight'].item(),\n",
        "                                    model.state_dict()['linear.bias'].item()))"
      ],
      "execution_count": 232,
      "outputs": [
        {
          "output_type": "stream",
          "text": [
            "epoch: 100 loss: 0.016 val loss: 0.006\n",
            "epoch: 200 loss: 0.007 val loss: 0.006\n",
            "epoch: 300 loss: 0.007 val loss: 0.006\n",
            "epoch: 400 loss: 0.013 val loss: 0.006\n",
            "epoch: 500 loss: 0.008 val loss: 0.006\n",
            "epoch: 600 loss: 0.011 val loss: 0.006\n",
            "epoch: 700 loss: 0.007 val loss: 0.006\n",
            "epoch: 800 loss: 0.006 val loss: 0.006\n",
            "epoch: 900 loss: 0.011 val loss: 0.006\n",
            "epoch: 1000 loss: 0.007 val loss: 0.006\n",
            "Finished Training\n",
            "\n",
            "ground truth:\n",
            "a: 2.000; b: 1.000\n",
            "predicted:\n",
            "a: 2.037; b: 0.970\n"
          ],
          "name": "stdout"
        }
      ]
    }
  ]
}