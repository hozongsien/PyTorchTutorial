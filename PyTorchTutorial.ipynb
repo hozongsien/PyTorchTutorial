{
  "nbformat": 4,
  "nbformat_minor": 0,
  "metadata": {
    "colab": {
      "name": "PyTorchTutorial.ipynb",
      "provenance": [],
      "authorship_tag": "ABX9TyOsoQACYccbDN39bxMweqTm",
      "include_colab_link": true
    },
    "kernelspec": {
      "name": "python3",
      "display_name": "Python 3"
    }
  },
  "cells": [
    {
      "cell_type": "markdown",
      "metadata": {
        "id": "view-in-github",
        "colab_type": "text"
      },
      "source": [
        "<a href=\"https://colab.research.google.com/github/hozongsien/PyTorchTutorial/blob/master/PyTorchTutorial.ipynb\" target=\"_parent\"><img src=\"https://colab.research.google.com/assets/colab-badge.svg\" alt=\"Open In Colab\"/></a>"
      ]
    },
    {
      "cell_type": "code",
      "metadata": {
        "id": "XIeyBb2t-lAR",
        "colab_type": "code",
        "colab": {}
      },
      "source": [
        "import numpy as np\n",
        "import matplotlib.pyplot as plt"
      ],
      "execution_count": 0,
      "outputs": []
    },
    {
      "cell_type": "markdown",
      "metadata": {
        "id": "dOdSCp5HMWn9",
        "colab_type": "text"
      },
      "source": [
        "## Linear Regression in Numpy"
      ]
    },
    {
      "cell_type": "markdown",
      "metadata": {
        "id": "WBllh24BLgYo",
        "colab_type": "text"
      },
      "source": [
        "Generating Toy Data"
      ]
    },
    {
      "cell_type": "code",
      "metadata": {
        "id": "DqNiAj2j-tZc",
        "colab_type": "code",
        "colab": {}
      },
      "source": [
        "np.random.seed(42)\n",
        "n = 100\n",
        "\n",
        "a = 2\n",
        "b = 1\n",
        "epsilon = 0.1 * np.random.randn(n, 1)\n",
        "\n",
        "x = np.random.rand(n, 1)\n",
        "y = a * x + b + epsilon"
      ],
      "execution_count": 0,
      "outputs": []
    },
    {
      "cell_type": "code",
      "metadata": {
        "id": "5ipvXbCf_Dsv",
        "colab_type": "code",
        "colab": {}
      },
      "source": [
        "idx = np.arange(100)\n",
        "np.random.shuffle(idx)\n",
        "\n",
        "train_idx = idx[:80]\n",
        "val_idx = idx[80:]\n",
        "\n",
        "x_train, y_train = x[train_idx], y[train_idx]\n",
        "x_val, y_val = x[val_idx], y[val_idx]"
      ],
      "execution_count": 0,
      "outputs": []
    },
    {
      "cell_type": "code",
      "metadata": {
        "id": "cGEu2oBQCOPA",
        "colab_type": "code",
        "colab": {
          "base_uri": "https://localhost:8080/",
          "height": 573
        },
        "outputId": "7be62a95-f1a8-44cc-9095-48fda298fe4d"
      },
      "source": [
        "def plotData(x_data, y_data, title):\n",
        "  plt.plot(x_data, y_data, 'ob', ms=5)\n",
        "  plt.title(title)\n",
        "  plt.ylabel('y')\n",
        "  plt.xlabel('x')\n",
        "  plt.show()\n",
        "\n",
        "plotData(x_train, y_train, 'Train Data')\n",
        "plotData(x_val, y_val, 'Val Data')"
      ],
      "execution_count": 33,
      "outputs": [
        {
          "output_type": "display_data",
          "data": {
            "image/png": "[encoded data removed]",
            "text/plain": [
              "<Figure size 432x288 with 1 Axes>"
            ]
          },
          "metadata": {
            "tags": [],
            "needs_background": "light"
          }
        },
        {
          "output_type": "display_data",
          "data": {
            "image/png": "[encoded data removed]",
            "text/plain": [
              "<Figure size 432x288 with 1 Axes>"
            ]
          },
          "metadata": {
            "tags": [],
            "needs_background": "light"
          }
        }
      ]
    },
    {
      "cell_type": "markdown",
      "metadata": {
        "id": "xi-IW_pvLqEZ",
        "colab_type": "text"
      },
      "source": [
        "Training"
      ]
    },
    {
      "cell_type": "code",
      "metadata": {
        "id": "nRwQrWFTK6P-",
        "colab_type": "code",
        "colab": {
          "base_uri": "https://localhost:8080/",
          "height": 85
        },
        "outputId": "1923e3ff-b38d-4e7b-9f13-7e73fe25d888"
      },
      "source": [
        "# Hyperparams\n",
        "lr = 0.1\n",
        "NUM_EPOCHS = 1000\n",
        "\n",
        "# Initialise random weights\n",
        "a_p = np.random.randn(1)\n",
        "b_p = np.random.randn(1)\n",
        "\n",
        "# BGD\n",
        "for epoch in range(NUM_EPOCHS):\n",
        "  # compute output\n",
        "  y_hat = y = a_p * x_train + b_p \n",
        "  \n",
        "  # compute loss\n",
        "  error = y_train - y_hat\n",
        "  loss = (error ** 2).mean() # MSE\n",
        "\n",
        "  # compute gradient\n",
        "  a_grad = -2 * (x_train * error).mean()\n",
        "  b_grad = -2 * error.mean() \n",
        "\n",
        "  # update params\n",
        "  a_p = a_p - lr * a_grad\n",
        "  b_p = b_p - lr * b_grad\n",
        "\n",
        "print('ground truth:')\n",
        "print('a: {:.3f}; b: {:.3f}'.format(a, b))\n",
        "print('predicted:')\n",
        "print('a: {:.3f}; b: {:.3f}'.format(a_p[0], b_p[0]))"
      ],
      "execution_count": 54,
      "outputs": [
        {
          "output_type": "stream",
          "text": [
            "ground truth:\n",
            "a: 2.000; b: 1.000\n",
            "predicted:\n",
            "a: 2.048; b: 0.968\n"
          ],
          "name": "stdout"
        }
      ]
    }
  ]
}